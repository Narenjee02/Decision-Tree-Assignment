{
 "cells": [
  {
   "cell_type": "code",
   "execution_count": 1,
   "id": "63ce6d74",
   "metadata": {},
   "outputs": [],
   "source": [
    "import pandas as pd"
   ]
  },
  {
   "cell_type": "code",
   "execution_count": 2,
   "id": "2ccae3b3",
   "metadata": {},
   "outputs": [],
   "source": [
    "dataset=pd.read_csv(\"Profit1 Prediction.csv\")"
   ]
  },
  {
   "cell_type": "code",
   "execution_count": 3,
   "id": "2c372288",
   "metadata": {},
   "outputs": [
    {
     "data": {
      "text/html": [
       "<div>\n",
       "<style scoped>\n",
       "    .dataframe tbody tr th:only-of-type {\n",
       "        vertical-align: middle;\n",
       "    }\n",
       "\n",
       "    .dataframe tbody tr th {\n",
       "        vertical-align: top;\n",
       "    }\n",
       "\n",
       "    .dataframe thead th {\n",
       "        text-align: right;\n",
       "    }\n",
       "</style>\n",
       "<table border=\"1\" class=\"dataframe\">\n",
       "  <thead>\n",
       "    <tr style=\"text-align: right;\">\n",
       "      <th></th>\n",
       "      <th>Dell</th>\n",
       "      <th>Hp</th>\n",
       "      <th>Barclays</th>\n",
       "      <th>Country</th>\n",
       "      <th>Profit</th>\n",
       "    </tr>\n",
       "  </thead>\n",
       "  <tbody>\n",
       "    <tr>\n",
       "      <th>0</th>\n",
       "      <td>2345.52</td>\n",
       "      <td>9990.88</td>\n",
       "      <td>27192.94</td>\n",
       "      <td>USA</td>\n",
       "      <td>7.312252e+06</td>\n",
       "    </tr>\n",
       "    <tr>\n",
       "      <th>1</th>\n",
       "      <td>4256.86</td>\n",
       "      <td>11902.22</td>\n",
       "      <td>29104.28</td>\n",
       "      <td>India</td>\n",
       "      <td>7.949365e+06</td>\n",
       "    </tr>\n",
       "    <tr>\n",
       "      <th>2</th>\n",
       "      <td>6168.20</td>\n",
       "      <td>13813.56</td>\n",
       "      <td>31015.62</td>\n",
       "      <td>Spain</td>\n",
       "      <td>8.586478e+06</td>\n",
       "    </tr>\n",
       "    <tr>\n",
       "      <th>3</th>\n",
       "      <td>8079.54</td>\n",
       "      <td>15724.90</td>\n",
       "      <td>32926.96</td>\n",
       "      <td>USA</td>\n",
       "      <td>9.223592e+06</td>\n",
       "    </tr>\n",
       "    <tr>\n",
       "      <th>4</th>\n",
       "      <td>9990.88</td>\n",
       "      <td>17636.24</td>\n",
       "      <td>34838.30</td>\n",
       "      <td>India</td>\n",
       "      <td>9.860705e+06</td>\n",
       "    </tr>\n",
       "    <tr>\n",
       "      <th>5</th>\n",
       "      <td>11902.22</td>\n",
       "      <td>19547.58</td>\n",
       "      <td>36749.64</td>\n",
       "      <td>Spain</td>\n",
       "      <td>1.049782e+07</td>\n",
       "    </tr>\n",
       "    <tr>\n",
       "      <th>6</th>\n",
       "      <td>13813.56</td>\n",
       "      <td>21458.92</td>\n",
       "      <td>38660.98</td>\n",
       "      <td>USA</td>\n",
       "      <td>1.113493e+07</td>\n",
       "    </tr>\n",
       "    <tr>\n",
       "      <th>7</th>\n",
       "      <td>15724.90</td>\n",
       "      <td>23370.26</td>\n",
       "      <td>40572.32</td>\n",
       "      <td>India</td>\n",
       "      <td>1.177204e+07</td>\n",
       "    </tr>\n",
       "    <tr>\n",
       "      <th>8</th>\n",
       "      <td>17636.24</td>\n",
       "      <td>25281.60</td>\n",
       "      <td>42483.66</td>\n",
       "      <td>Spain</td>\n",
       "      <td>1.240916e+07</td>\n",
       "    </tr>\n",
       "    <tr>\n",
       "      <th>9</th>\n",
       "      <td>19547.58</td>\n",
       "      <td>27192.94</td>\n",
       "      <td>44395.00</td>\n",
       "      <td>USA</td>\n",
       "      <td>1.304627e+07</td>\n",
       "    </tr>\n",
       "    <tr>\n",
       "      <th>10</th>\n",
       "      <td>21458.92</td>\n",
       "      <td>29104.28</td>\n",
       "      <td>46306.34</td>\n",
       "      <td>India</td>\n",
       "      <td>1.368338e+07</td>\n",
       "    </tr>\n",
       "    <tr>\n",
       "      <th>11</th>\n",
       "      <td>23370.26</td>\n",
       "      <td>31015.62</td>\n",
       "      <td>48217.68</td>\n",
       "      <td>Spain</td>\n",
       "      <td>1.432050e+07</td>\n",
       "    </tr>\n",
       "    <tr>\n",
       "      <th>12</th>\n",
       "      <td>25281.60</td>\n",
       "      <td>32926.96</td>\n",
       "      <td>50129.02</td>\n",
       "      <td>USA</td>\n",
       "      <td>1.495761e+07</td>\n",
       "    </tr>\n",
       "    <tr>\n",
       "      <th>13</th>\n",
       "      <td>27192.94</td>\n",
       "      <td>34838.30</td>\n",
       "      <td>52040.36</td>\n",
       "      <td>India</td>\n",
       "      <td>1.559472e+07</td>\n",
       "    </tr>\n",
       "    <tr>\n",
       "      <th>14</th>\n",
       "      <td>29104.28</td>\n",
       "      <td>36749.64</td>\n",
       "      <td>53951.70</td>\n",
       "      <td>Spain</td>\n",
       "      <td>1.623184e+07</td>\n",
       "    </tr>\n",
       "  </tbody>\n",
       "</table>\n",
       "</div>"
      ],
      "text/plain": [
       "        Dell        Hp  Barclays Country        Profit\n",
       "0    2345.52   9990.88  27192.94     USA  7.312252e+06\n",
       "1    4256.86  11902.22  29104.28   India  7.949365e+06\n",
       "2    6168.20  13813.56  31015.62   Spain  8.586478e+06\n",
       "3    8079.54  15724.90  32926.96     USA  9.223592e+06\n",
       "4    9990.88  17636.24  34838.30   India  9.860705e+06\n",
       "5   11902.22  19547.58  36749.64   Spain  1.049782e+07\n",
       "6   13813.56  21458.92  38660.98     USA  1.113493e+07\n",
       "7   15724.90  23370.26  40572.32   India  1.177204e+07\n",
       "8   17636.24  25281.60  42483.66   Spain  1.240916e+07\n",
       "9   19547.58  27192.94  44395.00     USA  1.304627e+07\n",
       "10  21458.92  29104.28  46306.34   India  1.368338e+07\n",
       "11  23370.26  31015.62  48217.68   Spain  1.432050e+07\n",
       "12  25281.60  32926.96  50129.02     USA  1.495761e+07\n",
       "13  27192.94  34838.30  52040.36   India  1.559472e+07\n",
       "14  29104.28  36749.64  53951.70   Spain  1.623184e+07"
      ]
     },
     "execution_count": 3,
     "metadata": {},
     "output_type": "execute_result"
    }
   ],
   "source": [
    "dataset"
   ]
  },
  {
   "cell_type": "code",
   "execution_count": 4,
   "id": "da3488e3",
   "metadata": {},
   "outputs": [
    {
     "data": {
      "text/plain": [
       "Index(['Dell', 'Hp', 'Barclays', 'Country', 'Profit'], dtype='object')"
      ]
     },
     "execution_count": 4,
     "metadata": {},
     "output_type": "execute_result"
    }
   ],
   "source": [
    "dataset.columns"
   ]
  },
  {
   "cell_type": "code",
   "execution_count": 5,
   "id": "69335e60",
   "metadata": {},
   "outputs": [],
   "source": [
    "dataset=pd.get_dummies(dataset,drop_first=True)"
   ]
  },
  {
   "cell_type": "code",
   "execution_count": 6,
   "id": "7d55097a",
   "metadata": {},
   "outputs": [
    {
     "data": {
      "text/html": [
       "<div>\n",
       "<style scoped>\n",
       "    .dataframe tbody tr th:only-of-type {\n",
       "        vertical-align: middle;\n",
       "    }\n",
       "\n",
       "    .dataframe tbody tr th {\n",
       "        vertical-align: top;\n",
       "    }\n",
       "\n",
       "    .dataframe thead th {\n",
       "        text-align: right;\n",
       "    }\n",
       "</style>\n",
       "<table border=\"1\" class=\"dataframe\">\n",
       "  <thead>\n",
       "    <tr style=\"text-align: right;\">\n",
       "      <th></th>\n",
       "      <th>Dell</th>\n",
       "      <th>Hp</th>\n",
       "      <th>Barclays</th>\n",
       "      <th>Profit</th>\n",
       "      <th>Country_Spain</th>\n",
       "      <th>Country_USA</th>\n",
       "    </tr>\n",
       "  </thead>\n",
       "  <tbody>\n",
       "    <tr>\n",
       "      <th>0</th>\n",
       "      <td>2345.52</td>\n",
       "      <td>9990.88</td>\n",
       "      <td>27192.94</td>\n",
       "      <td>7.312252e+06</td>\n",
       "      <td>False</td>\n",
       "      <td>True</td>\n",
       "    </tr>\n",
       "    <tr>\n",
       "      <th>1</th>\n",
       "      <td>4256.86</td>\n",
       "      <td>11902.22</td>\n",
       "      <td>29104.28</td>\n",
       "      <td>7.949365e+06</td>\n",
       "      <td>False</td>\n",
       "      <td>False</td>\n",
       "    </tr>\n",
       "    <tr>\n",
       "      <th>2</th>\n",
       "      <td>6168.20</td>\n",
       "      <td>13813.56</td>\n",
       "      <td>31015.62</td>\n",
       "      <td>8.586478e+06</td>\n",
       "      <td>True</td>\n",
       "      <td>False</td>\n",
       "    </tr>\n",
       "    <tr>\n",
       "      <th>3</th>\n",
       "      <td>8079.54</td>\n",
       "      <td>15724.90</td>\n",
       "      <td>32926.96</td>\n",
       "      <td>9.223592e+06</td>\n",
       "      <td>False</td>\n",
       "      <td>True</td>\n",
       "    </tr>\n",
       "    <tr>\n",
       "      <th>4</th>\n",
       "      <td>9990.88</td>\n",
       "      <td>17636.24</td>\n",
       "      <td>34838.30</td>\n",
       "      <td>9.860705e+06</td>\n",
       "      <td>False</td>\n",
       "      <td>False</td>\n",
       "    </tr>\n",
       "    <tr>\n",
       "      <th>5</th>\n",
       "      <td>11902.22</td>\n",
       "      <td>19547.58</td>\n",
       "      <td>36749.64</td>\n",
       "      <td>1.049782e+07</td>\n",
       "      <td>True</td>\n",
       "      <td>False</td>\n",
       "    </tr>\n",
       "    <tr>\n",
       "      <th>6</th>\n",
       "      <td>13813.56</td>\n",
       "      <td>21458.92</td>\n",
       "      <td>38660.98</td>\n",
       "      <td>1.113493e+07</td>\n",
       "      <td>False</td>\n",
       "      <td>True</td>\n",
       "    </tr>\n",
       "    <tr>\n",
       "      <th>7</th>\n",
       "      <td>15724.90</td>\n",
       "      <td>23370.26</td>\n",
       "      <td>40572.32</td>\n",
       "      <td>1.177204e+07</td>\n",
       "      <td>False</td>\n",
       "      <td>False</td>\n",
       "    </tr>\n",
       "    <tr>\n",
       "      <th>8</th>\n",
       "      <td>17636.24</td>\n",
       "      <td>25281.60</td>\n",
       "      <td>42483.66</td>\n",
       "      <td>1.240916e+07</td>\n",
       "      <td>True</td>\n",
       "      <td>False</td>\n",
       "    </tr>\n",
       "    <tr>\n",
       "      <th>9</th>\n",
       "      <td>19547.58</td>\n",
       "      <td>27192.94</td>\n",
       "      <td>44395.00</td>\n",
       "      <td>1.304627e+07</td>\n",
       "      <td>False</td>\n",
       "      <td>True</td>\n",
       "    </tr>\n",
       "    <tr>\n",
       "      <th>10</th>\n",
       "      <td>21458.92</td>\n",
       "      <td>29104.28</td>\n",
       "      <td>46306.34</td>\n",
       "      <td>1.368338e+07</td>\n",
       "      <td>False</td>\n",
       "      <td>False</td>\n",
       "    </tr>\n",
       "    <tr>\n",
       "      <th>11</th>\n",
       "      <td>23370.26</td>\n",
       "      <td>31015.62</td>\n",
       "      <td>48217.68</td>\n",
       "      <td>1.432050e+07</td>\n",
       "      <td>True</td>\n",
       "      <td>False</td>\n",
       "    </tr>\n",
       "    <tr>\n",
       "      <th>12</th>\n",
       "      <td>25281.60</td>\n",
       "      <td>32926.96</td>\n",
       "      <td>50129.02</td>\n",
       "      <td>1.495761e+07</td>\n",
       "      <td>False</td>\n",
       "      <td>True</td>\n",
       "    </tr>\n",
       "    <tr>\n",
       "      <th>13</th>\n",
       "      <td>27192.94</td>\n",
       "      <td>34838.30</td>\n",
       "      <td>52040.36</td>\n",
       "      <td>1.559472e+07</td>\n",
       "      <td>False</td>\n",
       "      <td>False</td>\n",
       "    </tr>\n",
       "    <tr>\n",
       "      <th>14</th>\n",
       "      <td>29104.28</td>\n",
       "      <td>36749.64</td>\n",
       "      <td>53951.70</td>\n",
       "      <td>1.623184e+07</td>\n",
       "      <td>True</td>\n",
       "      <td>False</td>\n",
       "    </tr>\n",
       "  </tbody>\n",
       "</table>\n",
       "</div>"
      ],
      "text/plain": [
       "        Dell        Hp  Barclays        Profit  Country_Spain  Country_USA\n",
       "0    2345.52   9990.88  27192.94  7.312252e+06          False         True\n",
       "1    4256.86  11902.22  29104.28  7.949365e+06          False        False\n",
       "2    6168.20  13813.56  31015.62  8.586478e+06           True        False\n",
       "3    8079.54  15724.90  32926.96  9.223592e+06          False         True\n",
       "4    9990.88  17636.24  34838.30  9.860705e+06          False        False\n",
       "5   11902.22  19547.58  36749.64  1.049782e+07           True        False\n",
       "6   13813.56  21458.92  38660.98  1.113493e+07          False         True\n",
       "7   15724.90  23370.26  40572.32  1.177204e+07          False        False\n",
       "8   17636.24  25281.60  42483.66  1.240916e+07           True        False\n",
       "9   19547.58  27192.94  44395.00  1.304627e+07          False         True\n",
       "10  21458.92  29104.28  46306.34  1.368338e+07          False        False\n",
       "11  23370.26  31015.62  48217.68  1.432050e+07           True        False\n",
       "12  25281.60  32926.96  50129.02  1.495761e+07          False         True\n",
       "13  27192.94  34838.30  52040.36  1.559472e+07          False        False\n",
       "14  29104.28  36749.64  53951.70  1.623184e+07           True        False"
      ]
     },
     "execution_count": 6,
     "metadata": {},
     "output_type": "execute_result"
    }
   ],
   "source": [
    "dataset"
   ]
  },
  {
   "cell_type": "code",
   "execution_count": 7,
   "id": "898ee8be",
   "metadata": {},
   "outputs": [],
   "source": [
    "Indep=dataset[['Dell', 'Hp', 'Barclays', 'Country_Spain', 'Country_USA']]"
   ]
  },
  {
   "cell_type": "code",
   "execution_count": 8,
   "id": "4fe5af67",
   "metadata": {},
   "outputs": [],
   "source": [
    "Depent=dataset[[\"Profit\"]]"
   ]
  },
  {
   "cell_type": "code",
   "execution_count": 9,
   "id": "fde77985",
   "metadata": {},
   "outputs": [],
   "source": [
    "from sklearn.model_selection import train_test_split\n",
    "x_train,x_test,y_train,y_test=train_test_split(Indep, Depent, test_size=0.30, random_state=0)"
   ]
  },
  {
   "cell_type": "code",
   "execution_count": 59,
   "id": "0d7b37cb",
   "metadata": {},
   "outputs": [],
   "source": [
    "from sklearn.tree import DecisionTreeRegressor\n",
    "regressor=DecisionTreeRegressor(criterion='poisson', splitter='best', max_features='log2')\n",
    "regressor=regressor.fit(x_train,y_train)"
   ]
  },
  {
   "cell_type": "code",
   "execution_count": 60,
   "id": "de649a73",
   "metadata": {},
   "outputs": [
    {
     "data": {
      "image/png": "[encoded data removed]",
      "text/plain": [
       "<Figure size 640x480 with 1 Axes>"
      ]
     },
     "metadata": {},
     "output_type": "display_data"
    }
   ],
   "source": [
    "import matplotlib.pyplot as plt\n",
    "from sklearn import tree\n",
    "tree.plot_tree(regressor)\n",
    "plt.show()"
   ]
  },
  {
   "cell_type": "code",
   "execution_count": 61,
   "id": "ea3e07a2",
   "metadata": {},
   "outputs": [
    {
     "data": {
      "text/plain": [
       "0.943946188423817"
      ]
     },
     "execution_count": 61,
     "metadata": {},
     "output_type": "execute_result"
    }
   ],
   "source": [
    "y_pred=regressor.predict(x_test)\n",
    "from sklearn.metrics import r2_score\n",
    "r_score=r2_score(y_test,y_pred)\n",
    "r_score"
   ]
  },
  {
   "cell_type": "code",
   "execution_count": 17,
   "id": "e7267960",
   "metadata": {},
   "outputs": [],
   "source": [
    "import pickle\n",
    "filename=\"finalized_model_linear.sav\"\n",
    "pickle.dump(regressor,open(filename, 'wb'))"
   ]
  },
  {
   "cell_type": "code",
   "execution_count": 18,
   "id": "8a621881",
   "metadata": {},
   "outputs": [
    {
     "name": "stderr",
     "output_type": "stream",
     "text": [
      "C:\\Users\\Admin\\anaconda3\\Lib\\site-packages\\sklearn\\base.py:464: UserWarning: X does not have valid feature names, but DecisionTreeRegressor was fitted with feature names\n",
      "  warnings.warn(\n"
     ]
    },
    {
     "data": {
      "text/plain": [
       "array([7312251.667])"
      ]
     },
     "execution_count": 18,
     "metadata": {},
     "output_type": "execute_result"
    }
   ],
   "source": [
    "loaded_model=pickle.load(open(\"finalized_model_linear.sav\",'rb'))\n",
    "result=loaded_model.predict([[23,45,45,56,89]])\n",
    "result "
   ]
  },
  {
   "cell_type": "code",
   "execution_count": null,
   "id": "9c1f6397",
   "metadata": {},
   "outputs": [],
   "source": []
  },
  {
   "cell_type": "code",
   "execution_count": null,
   "id": "a6562131",
   "metadata": {},
   "outputs": [],
   "source": []
  },
  {
   "cell_type": "code",
   "execution_count": null,
   "id": "76d3d205",
   "metadata": {},
   "outputs": [],
   "source": []
  },
  {
   "cell_type": "code",
   "execution_count": null,
   "id": "6fb7b702",
   "metadata": {},
   "outputs": [],
   "source": []
  },
  {
   "cell_type": "code",
   "execution_count": null,
   "id": "879dca1e",
   "metadata": {},
   "outputs": [],
   "source": []
  }
 ],
 "metadata": {
  "kernelspec": {
   "display_name": "Python 3 (ipykernel)",
   "language": "python",
   "name": "python3"
  },
  "language_info": {
   "codemirror_mode": {
    "name": "ipython",
    "version": 3
   },
   "file_extension": ".py",
   "mimetype": "text/x-python",
   "name": "python",
   "nbconvert_exporter": "python",
   "pygments_lexer": "ipython3",
   "version": "3.11.5"
  }
 },
 "nbformat": 4,
 "nbformat_minor": 5
}
